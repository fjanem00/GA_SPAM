{
 "cells": [
  {
   "cell_type": "code",
   "execution_count": 95,
   "metadata": {},
   "outputs": [],
   "source": [
    "import pickle\n",
    "from sklearn import svm\n",
    "import matplotlib.pyplot as plt\n",
    "from sklearn.utils import shuffle\n",
    "import numpy as np\n",
    "import pandas as pd\n",
    "from time import time\n",
    "from scipy import sparse\n",
    "from sklearn import linear_model\n",
    "from sklearn import preprocessing\n",
    "# Library to be able to use bow\n",
    "from sklearn.feature_extraction.text import CountVectorizer\n",
    "from sklearn.feature_extraction.text import TfidfVectorizer\n",
    "from sklearn.metrics import precision_recall_fscore_support, accuracy_score, confusion_matrix\n",
    "# from sklearn.cross_validation import cross_val_score\n",
    "from sklearn.model_selection import cross_val_score\n",
    "from sklearn.model_selection import learning_curve\n",
    "from sklearn.model_selection import train_test_split\n",
    "from sklearn.feature_selection import SelectKBest\n",
    "from sklearn.feature_selection import chi2\n",
    "# library to be able to use gnb\n",
    "from sklearn.naive_bayes import MultinomialNB\n",
    "from sklearn.pipeline import Pipeline\n",
    "from sklearn.utils import class_weight\n",
    "from sklearn.externals import joblib\n",
    "import os.path"
   ]
  },
  {
   "cell_type": "code",
   "execution_count": 96,
   "metadata": {},
   "outputs": [],
   "source": [
    "def feature_selection(features, target):\n",
    " \n",
    "    chi2_features = chi2(features, target) \n",
    "    umbral = chi2_features[1] > 0.85\n",
    "    count = 0\n",
    "\n",
    "    for i, item in enumerate(umbral):\n",
    "        if item:\n",
    "            count = count + 1  \n",
    "    return count"
   ]
  },
  {
   "cell_type": "code",
   "execution_count": 102,
   "metadata": {},
   "outputs": [],
   "source": [
    "def tfidf_vectorizer(X):\n",
    "    vectorizer = TfidfVectorizer(min_df=3, max_features=10000, norm='l2',\n",
    "                                     use_idf=True, smooth_idf=True, ngram_range=([1, 1]))\n",
    "    X = vectorizer.fit_transform(X).toarray()  \n",
    "    \n",
    "    return X"
   ]
  },
  {
   "cell_type": "code",
   "execution_count": 103,
   "metadata": {},
   "outputs": [],
   "source": [
    "def tfidf_chi2_lr_clf(X,y):\n",
    "    \n",
    "    chi2_selector = SelectKBest(chi2, k=feature_selection(X_train,y_train))\n",
    "    clf = linear_model.LogisticRegression( penalty='l2', C=50,random_state=0)\n",
    "    p = Pipeline([('vect', chi2_selector), ('clf', clf)])\n",
    "    p = p.fit(X_train, y_train)\n",
    "    \n",
    "    return p"
   ]
  },
  {
   "cell_type": "code",
   "execution_count": 104,
   "metadata": {},
   "outputs": [],
   "source": [
    "def predict_pipeline_OVA(pipeline, X_test, y_test):\n",
    "\n",
    "    y_pred = pipeline.predict(X_test)\n",
    "    #y_test = lb.inverse_transform(y_test)\n",
    "    my_tags = pipeline.classes_\n",
    "\n",
    "    evaluate_prediction(y_pred, y_test)\n",
    "    precision_recall_f1(y_test, y_pred)\n",
    "    \n",
    "def evaluate_prediction(predictions, target, title=\"Confusion matrix\"):\n",
    "    print('accuracy %s' % accuracy_score(target, predictions))\n",
    "    print(\n",
    "        'Correctly Classifed {0} out of {1}'.format(accuracy_score(target, predictions, normalize=False), len(target)))\n",
    "    cm = confusion_matrix(target, predictions)\n",
    "    print('confusion matrix\\n %s' % cm)\n",
    "    cm_normalized = cm.astype('float') / cm.sum(axis=1)[:, np.newaxis]\n",
    "    plot_confusion_matrix(cm_normalized, title + ' Normalized')\n",
    "    print('(row=expected, col=predicted)')\n",
    "    \n",
    "   \n",
    "        \n",
    "        \n",
    "\n",
    "def precision_recall_f1(y_test, y_pred):\n",
    "    print('\\nmacro')\n",
    "    p, r, f, _ = precision_recall_fscore_support(y_true=y_test, y_pred=y_pred, average='macro')\n",
    "    print('Precision: {0:0.3f}, Recall : {1:0.3f}, F1: {2:0.4f}'.format(p, r, f))\n",
    "\n",
    "    print('\\nmicro')\n",
    "    p, r, f, _ = precision_recall_fscore_support(y_true=y_test, y_pred=y_pred, average='micro')\n",
    "    print('Precision: {0:0.3f}, Recall : {1:0.3f}, F1: {2:0.4f}'.format(p, r, f))\n",
    "\n",
    "    print('\\nweighted')\n",
    "    p, r, f, _ = precision_recall_fscore_support(y_true=y_test, y_pred=y_pred, average='weighted')\n",
    "    print('Precision: {0:0.3f}, Recall : {1:0.3f}, F1: {2:0.4f}'.format(p, r, f))\n",
    "\n",
    "    precision, recall, fscore, support = precision_recall_fscore_support(y_test, y_pred)\n",
    "\n",
    "    accuracy = np.average(recall)\n",
    "    \n",
    "    print('\\nprecision: {}'.format(precision))\n",
    "    print('\\nrecall: {}'.format(recall))\n",
    "    print('\\nfscore: {}'.format(fscore))\n",
    "    print('\\nsupport: {}'.format(support))\n",
    "    print('\\nACC:{}'.format(accuracy))\n",
    "def plot_confusion_matrix(cm, title='Confusion matrix', cmap=plt.cm.Blues):\n",
    "    plt.imshow(cm, interpolation='nearest', cmap=cmap)\n",
    "    plt.title(title)\n",
    "    plt.colorbar()\n",
    "    tick_marks = np.arange(len(my_tags))    \n",
    "    target_names = my_tags\n",
    "    plt.xticks(tick_marks, target_names, rotation=90)\n",
    "    plt.yticks(tick_marks, target_names)\n",
    "    plt.tight_layout()\n",
    "    plt.ylabel('True label')\n",
    "    plt.xlabel('Predicted label')\n",
    "    \n",
    "def save_classifer(obj, obj_name):\n",
    "    pickle.dump(obj, open(obj_name, 'wb'))\n",
    "\n",
    "\n",
    "def load_classifier(obj_name):\n",
    "    return pickle.load(open(obj_name, 'rb'))"
   ]
  },
  {
   "cell_type": "code",
   "execution_count": 105,
   "metadata": {},
   "outputs": [
    {
     "name": "stderr",
     "output_type": "stream",
     "text": [
      "/Library/Frameworks/Python.framework/Versions/3.7/lib/python3.7/site-packages/ipykernel_launcher.py:4: RuntimeWarning: invalid value encountered in greater\n",
      "  after removing the cwd from sys.path.\n",
      "/Library/Frameworks/Python.framework/Versions/3.7/lib/python3.7/site-packages/sklearn/linear_model/logistic.py:433: FutureWarning: Default solver will be changed to 'lbfgs' in 0.22. Specify a solver to silence this warning.\n",
      "  FutureWarning)\n"
     ]
    },
    {
     "name": "stdout",
     "output_type": "stream",
     "text": [
      "accuracy 0.9768041237113402\n",
      "Correctly Classifed 1516 out of 1552\n",
      "confusion matrix\n",
      " [[1070    5]\n",
      " [  31  446]]\n",
      "(row=expected, col=predicted)\n",
      "\n",
      "macro\n",
      "Precision: 0.980, Recall : 0.965, F1: 0.9723\n",
      "\n",
      "micro\n",
      "Precision: 0.977, Recall : 0.977, F1: 0.9768\n",
      "\n",
      "weighted\n",
      "Precision: 0.977, Recall : 0.977, F1: 0.9766\n",
      "\n",
      "precision: [0.97184378 0.98891353]\n",
      "\n",
      "recall: [0.99534884 0.93501048]\n",
      "\n",
      "fscore: [0.98345588 0.9612069 ]\n",
      "\n",
      "support: [1075  477]\n",
      "\n",
      "ACC:0.9651796596947979\n"
     ]
    },
    {
     "data": {
      "image/png": "[encoded data removed]",
      "text/plain": [
       "<Figure size 432x288 with 2 Axes>"
      ]
     },
     "metadata": {
      "needs_background": "light"
     },
     "output_type": "display_data"
    }
   ],
   "source": [
    "data_frame = pd.read_csv(\"enronText.csv\")\n",
    "\n",
    "lb = preprocessing.LabelBinarizer()\n",
    "\n",
    "X = data_frame['Text'].astype(str)\n",
    "y = data_frame['Category'].astype(str)\n",
    "\n",
    "my_tags = ['Ham','Spam']\n",
    "\n",
    "X = tfidf_vectorizer(X)\n",
    "X_train, X_test, y_train, y_test = train_test_split(X, y, test_size=0.3, random_state=0)\n",
    "\n",
    "clf = tfidf_chi2_lr_clf(X_train,y_train)\n",
    "\n",
    "predict_pipeline_OVA(clf, X_test, y_test)"
   ]
  },
  {
   "cell_type": "code",
   "execution_count": null,
   "metadata": {},
   "outputs": [],
   "source": []
  },
  {
   "cell_type": "code",
   "execution_count": null,
   "metadata": {},
   "outputs": [],
   "source": []
  }
 ],
 "metadata": {
  "kernelspec": {
   "display_name": "Python 3",
   "language": "python",
   "name": "python3"
  },
  "language_info": {
   "codemirror_mode": {
    "name": "ipython",
    "version": 3
   },
   "file_extension": ".py",
   "mimetype": "text/x-python",
   "name": "python",
   "nbconvert_exporter": "python",
   "pygments_lexer": "ipython3",
   "version": "3.7.2"
  }
 },
 "nbformat": 4,
 "nbformat_minor": 2
}
